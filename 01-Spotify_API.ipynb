{
 "cells": [
  {
   "cell_type": "markdown",
   "id": "5469d2f9",
   "metadata": {},
   "source": [
    "# Spotify API"
   ]
  },
  {
   "cell_type": "markdown",
   "id": "a1106e65",
   "metadata": {},
   "source": [
    "Importiamo le librerie necessarie:"
   ]
  },
  {
   "cell_type": "code",
   "execution_count": 74,
   "id": "762ec2a1",
   "metadata": {},
   "outputs": [],
   "source": [
    "import spotipy\n",
    "import spotipy.util as util\n",
    "from spotipy.oauth2 import SpotifyClientCredentials\n",
    "import spotipy.oauth2 as oauth2\n",
    "import pandas as pd"
   ]
  },
  {
   "cell_type": "code",
   "execution_count": 75,
   "id": "4367d92b",
   "metadata": {},
   "outputs": [],
   "source": [
    "cid = \"Insert your Client ID\" \n",
    "secret = \"Insert your Client Secret\" \n",
    "\n",
    "OAUTH_TOKEN_URL= \"Insert your OAUTH_TOKEN\" \n",
    "\n",
    "client_credentials_manager = SpotifyClientCredentials(client_id=cid, client_secret=secret)\n",
    "sp = spotipy.Spotify(auth = OAUTH_TOKEN_URL , client_credentials_manager = client_credentials_manager , requests_timeout=20, retries=10)"
   ]
  },
  {
   "cell_type": "markdown",
   "id": "4711e26c",
   "metadata": {},
   "source": [
    "Il seguente codice crea tre liste vuote: ``artist_name``, ``link`` e ``uri``. Poi viene dichiarata una lista ``mkt`` che contiene i codici di mercato di Spotify.\n",
    "\n",
    "Successivamente, viene effettuata una ricerca sulla piattaforma Spotify usando il metodo ``sp.search()``. La ricerca viene eseguita in un ciclo \"for\" che scorre dall'anno 2000 al 2022. I risultati della ricerca vengono salvati in ``track_results``.\n",
    "\n",
    "Infine, viene eseguito un ulteriore ciclo \"for\" per enumerare i risultati \"t\" e verificare se il nome dell'artista non è già presente nella lista ``artist_name``. Se non è presente, vengono aggiunti il nome dell'artista, il link esterno e l'URI alla rispettiva lista."
   ]
  },
  {
   "cell_type": "code",
   "execution_count": 76,
   "id": "58a11d3a",
   "metadata": {
    "scrolled": false
   },
   "outputs": [],
   "source": [
    "#Creo le liste dei valori che vado a chiedere all'API\n",
    "artist_name = []\n",
    "link = []\n",
    "uri=[]\n",
    "\n",
    "\n",
    "#Seleziono tutti i mercati di Spotify\n",
    "mkt = [ \"AD\", \"AR\", \"AT\", \"AU\", \"BE\", \"BG\", \"BO\", \"BR\", \"CA\", \"CH\", \"CL\", \"CO\", \"CR\", \"CY\", \n",
    "      \"CZ\", \"DE\", \"DK\", \"DO\", \"EC\", \"EE\", \"ES\", \"FI\", \"FR\", \"GB\", \"GR\", \"GT\", \"HK\", \"HN\", \"HU\", \n",
    "      \"ID\", \"IE\", \"IS\", \"IT\", \"JP\", \"LI\", \"LT\", \"LU\", \"LV\", \"MC\", \"MT\", \"MX\", \"MY\", \"NI\", \"NL\", \n",
    "      \"NO\", \"NZ\", \"PA\", \"PE\", \"PH\", \"PL\", \"PT\", \"PY\", \"SE\", \"SG\", \"SK\", \"SV\", \"TH\", \"TR\", \"TW\", \n",
    "      \"US\", \"UY\", \"VN\" ]\n",
    "\n",
    "\n",
    "#Utilizzo il metodo search per cercare gli artisti\n",
    "for anni in range(2000,2023):\n",
    "    for i in range(0,800,50):\n",
    "        track_results = sp.search(q=f'year:{anni}', type='artist', limit=50, offset=i , market = mkt)\n",
    "        for i, t in enumerate(track_results['artists']['items']):\n",
    "            if t['name'] not in artist_name:\n",
    "                artist_name.append(t['name'])\n",
    "                link.append(t['external_urls']['spotify'])\n",
    "                uri.append(t['uri'])"
   ]
  },
  {
   "cell_type": "markdown",
   "id": "4b4f80fa",
   "metadata": {},
   "source": [
    "I risultati vengono salvati in un dataframe ``df``"
   ]
  },
  {
   "cell_type": "code",
   "execution_count": 79,
   "id": "47db743d",
   "metadata": {
    "scrolled": true
   },
   "outputs": [],
   "source": [
    "df=pd.DataFrame({\"Artist\":artist_name, \"Url\" : link ,\"Uri\":uri})\n",
    "df"
   ]
  },
  {
   "cell_type": "markdown",
   "id": "1ed3e55a",
   "metadata": {},
   "source": [
    "Questo codice crea sei liste vuote: ``track_name``, ``artist``, ``url``, ``uri``, ``album``, e ``album_type``. Poi viene effettuato un ciclo ``for`` per scorrere la lista di artisti ``artist_name``. In ogni ciclo, viene utilizzato il metodo ``sp.artist_top_tracks()`` per ottenere le informazioni sulle tracce popolari dell'artista.\n",
    "\n",
    "I risultati della ricerca vengono salvati in una variabile ``results``. Successivamente, viene effettuato un ulteriore ciclo ``for`` per enumerare le tracce e salvare i dettagli di ogni traccia nella rispettiva lista. I dettagli della traccia includono il nome dell'artista, il link esterno, l'URI della traccia, il nome della traccia, il nome dell'album e il tipo di album."
   ]
  },
  {
   "cell_type": "code",
   "execution_count": 82,
   "id": "c6792315",
   "metadata": {},
   "outputs": [],
   "source": [
    "track_name = []\n",
    "artist =  []\n",
    "url = []\n",
    "uri = []\n",
    "album = []\n",
    "album_type = []\n",
    "\n",
    "#Cerco le informazioni delle Popular Tracks di ogni artista\n",
    "for i in range(len(artist_name)):\n",
    "    results = sp.artist_top_tracks(df.iloc[i]['Uri'])\n",
    "\n",
    "    for track in results['tracks']:\n",
    "        artist.append(df.iloc[i]['Artist'])\n",
    "        url.append(df.iloc[i]['Url'])\n",
    "        uri.append(track['uri'])\n",
    "        track_name.append(track['name'])\n",
    "        album.append(track['album']['name'])\n",
    "        album_type.append(track['album']['album_type'])\n"
   ]
  },
  {
   "cell_type": "code",
   "execution_count": 83,
   "id": "ee8b7ca7",
   "metadata": {
    "scrolled": true
   },
   "outputs": [],
   "source": [
    "prova = pd.DataFrame({\"Artist\":artist, \"Url\" : url ,'Track':track_name , 'Album':album, 'Album_type':album_type , 'Uri':uri})\n",
    "prova"
   ]
  },
  {
   "cell_type": "markdown",
   "id": "b9c407b8",
   "metadata": {},
   "source": [
    "Viene effettuata una richiesta alle caratteristiche audio di ogni canzone con il metodo ``audio_features``, e vengono raccolti i valori di danceability, energia, tonalità, volume, parlato, acusticità, strumentalità, vivacità, valenza, tempo e durata. In caso di risposta null dall'API, vengono inseriti valori ``null``."
   ]
  },
  {
   "cell_type": "code",
   "execution_count": 85,
   "id": "32161df2",
   "metadata": {},
   "outputs": [],
   "source": [
    "danceability = []\n",
    "energy = []\n",
    "key = []\n",
    "loudness = []\n",
    "speechiness = []\n",
    "acousticness = []\n",
    "instrumentalness = []\n",
    "liveness = []\n",
    "valence = []\n",
    "tempo = []\n",
    "duration_ms =[]\n",
    "\n",
    "#Ottengo le Audio Features per ogni canzone, inserisco un valore null se l'api non mi restituisce un valore\n",
    "for i in prova['Uri']:\n",
    "    for x in sp.audio_features(tracks=[i]):\n",
    "        if x != None:\n",
    "            danceability.append(x['danceability'])\n",
    "            energy.append(x['energy'])\n",
    "            key.append(x['key'])\n",
    "            loudness.append(x['loudness'])\n",
    "            speechiness.append(x['speechiness'])\n",
    "            acousticness.append(x['acousticness'])\n",
    "            instrumentalness.append(x['instrumentalness'])\n",
    "            liveness.append(x['liveness'])\n",
    "            valence.append(x['valence'])\n",
    "            tempo.append(x['tempo'])\n",
    "            duration_ms.append(x['duration_ms'])\n",
    "        else:\n",
    "            danceability.append(None)\n",
    "            energy.append(None)\n",
    "            key.append(None)\n",
    "            loudness.append(None)\n",
    "            speechiness.append(None)\n",
    "            acousticness.append(None)\n",
    "            instrumentalness.append(None)\n",
    "            liveness.append(None)\n",
    "            valence.append(None)\n",
    "            tempo.append(None) \n",
    "            duration_ms.append(None)"
   ]
  },
  {
   "cell_type": "markdown",
   "id": "c324be21",
   "metadata": {},
   "source": [
    "Salviamo i risultati ottenuti"
   ]
  },
  {
   "cell_type": "code",
   "execution_count": 86,
   "id": "d32ae023",
   "metadata": {},
   "outputs": [],
   "source": [
    "prova=pd.DataFrame({\"Artist\":artist, \"Url\" : url ,'Track':track_name , 'Album':album, 'Album_type':album_type , \"Uri\": uri ,\n",
    "                    'Danceability': danceability , \"Energy\": energy, \"Key\":key , \"Loudness\": loudness, \"Speechiness\": speechiness,\n",
    "                    \"Acousticness\": acousticness , \"Instrumentalness\": instrumentalness, \"Liveness\":liveness , \"Valence\":valence,\n",
    "                    \"Tempo\":tempo, \"Duration_ms\": duration_ms})\n",
    "prova"
   ]
  },
  {
   "cell_type": "code",
   "execution_count": 88,
   "id": "23869d6d",
   "metadata": {},
   "outputs": [],
   "source": [
    "prova.to_csv('songs_final.csv')"
   ]
  }
 ],
 "metadata": {
  "kernelspec": {
   "display_name": "Python 3 (ipykernel)",
   "language": "python",
   "name": "python3"
  },
  "language_info": {
   "codemirror_mode": {
    "name": "ipython",
    "version": 3
   },
   "file_extension": ".py",
   "mimetype": "text/x-python",
   "name": "python",
   "nbconvert_exporter": "python",
   "pygments_lexer": "ipython3",
   "version": "3.9.13"
  }
 },
 "nbformat": 4,
 "nbformat_minor": 5
}
