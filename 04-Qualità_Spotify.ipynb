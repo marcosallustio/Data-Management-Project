{
 "cells": [
  {
   "cell_type": "markdown",
   "id": "77d82374",
   "metadata": {},
   "source": [
    "# Spotify "
   ]
  },
  {
   "cell_type": "code",
   "execution_count": null,
   "id": "094288f7",
   "metadata": {},
   "outputs": [],
   "source": [
    "import pandas as pd"
   ]
  },
  {
   "cell_type": "markdown",
   "id": "76201982",
   "metadata": {},
   "source": [
    "## Completezza"
   ]
  },
  {
   "cell_type": "code",
   "execution_count": null,
   "id": "fd13845a",
   "metadata": {},
   "outputs": [],
   "source": [
    "spotify = pd.read_csv('songs_final.csv')"
   ]
  },
  {
   "cell_type": "code",
   "execution_count": null,
   "id": "586dc883",
   "metadata": {},
   "outputs": [],
   "source": [
    "spotify.isnull().sum()"
   ]
  },
  {
   "cell_type": "markdown",
   "id": "a4fe80f6",
   "metadata": {},
   "source": [
    "# Spotify stream count"
   ]
  },
  {
   "cell_type": "markdown",
   "id": "fb436632",
   "metadata": {},
   "source": [
    "## Completezza streams"
   ]
  },
  {
   "cell_type": "code",
   "execution_count": null,
   "id": "f9aa0de1",
   "metadata": {
    "scrolled": true
   },
   "outputs": [],
   "source": [
    "stream=pd.read_csv('StreamCount_final.csv')\n",
    "stream.isnull().sum()"
   ]
  },
  {
   "cell_type": "markdown",
   "id": "468c1264",
   "metadata": {},
   "source": [
    "## Accuratezza"
   ]
  },
  {
   "cell_type": "markdown",
   "id": "786755cd",
   "metadata": {},
   "source": [
    "### Per alcune canzoni il nome ricevuto dall'API non corrisponde con quello preso dallo scraping"
   ]
  },
  {
   "cell_type": "code",
   "execution_count": null,
   "id": "681a7e45",
   "metadata": {},
   "outputs": [],
   "source": [
    "streams=stream[stream['Track_Api']!=stream['Track']]\n",
    "streams"
   ]
  },
  {
   "cell_type": "markdown",
   "id": "88c45bf9",
   "metadata": {},
   "source": [
    "### Alcune canzoni sono cambiate di posto nel tempo trascorso da quando è stata fatta la richiesta con l'API e quando è stato raccolto il numero di riproduzioni tramite scraping. Per rimediare separiamo le colonne e facciamo un merge usando ``Artist`` e ``Track`` come indice."
   ]
  },
  {
   "cell_type": "code",
   "execution_count": null,
   "id": "57ac171f",
   "metadata": {},
   "outputs": [],
   "source": [
    "spoti_url=streams[['Unnamed: 0','Artist','Url','Track_Api', 'Album_Api']]\n",
    "spoti_stream=streams[['Artist','Track', 'Stream']]"
   ]
  },
  {
   "cell_type": "code",
   "execution_count": null,
   "id": "7610e410",
   "metadata": {},
   "outputs": [],
   "source": [
    "spoti_url = spoti_url.rename(columns={'Track_Api': 'Track'})\n",
    "merged_df = pd.merge(spoti_url, spoti_stream, on=['Artist', 'Track'])\n",
    "merged_df['Track_Api']=merged_df['Track']"
   ]
  },
  {
   "cell_type": "code",
   "execution_count": null,
   "id": "f05643f1",
   "metadata": {},
   "outputs": [],
   "source": [
    "df = pd.merge(stream, merged_df, on=['Unnamed: 0'], how='left')"
   ]
  },
  {
   "cell_type": "code",
   "execution_count": null,
   "id": "e6d3dc5d",
   "metadata": {},
   "outputs": [],
   "source": [
    "df['Track_y'].fillna(df['Track_x'], inplace=True)\n",
    "df['Stream_y'].fillna(df['Stream_x'], inplace=True)"
   ]
  },
  {
   "cell_type": "code",
   "execution_count": null,
   "id": "596ebd4a",
   "metadata": {},
   "outputs": [],
   "source": [
    "df.drop(['Artist_y', 'Url_y', 'Track_x', 'Stream_x', 'Track_Api_y', 'Album_Api_y'], axis=1, inplace=True)"
   ]
  },
  {
   "cell_type": "code",
   "execution_count": null,
   "id": "28622e85",
   "metadata": {},
   "outputs": [],
   "source": [
    "df = df.rename(columns={'Artist_x':'Artist', 'Url_x':'Url', 'Track_Api_x':'Track_Api', 'Album_Api_x':'Album' ,\n",
    "                        'Stream_y':'Stream','Track_y':'Track'})"
   ]
  },
  {
   "cell_type": "markdown",
   "id": "a236c5aa",
   "metadata": {},
   "source": [
    "Una volta sistemate le colonne ridondanti ritroviamo il dataset corretto"
   ]
  },
  {
   "cell_type": "code",
   "execution_count": null,
   "id": "2102a772",
   "metadata": {
    "scrolled": true
   },
   "outputs": [],
   "source": [
    "df"
   ]
  },
  {
   "cell_type": "markdown",
   "id": "7e81245c",
   "metadata": {},
   "source": [
    "### Cercando di nuovo le canzoni dal titolo che non combacia troviamo che il nostro metodo precedente ha sistemato solo 200 canzoni. Ora troviamo che molte canzoni sono effettivamente le stesse ma con un titolo leggermente diverso oppure canzoni dal titolo totalmente diverso"
   ]
  },
  {
   "cell_type": "code",
   "execution_count": null,
   "id": "75438dfd",
   "metadata": {
    "scrolled": true
   },
   "outputs": [],
   "source": [
    "dif=df[df['Track_Api']!=df['Track']]\n",
    "dif"
   ]
  },
  {
   "cell_type": "markdown",
   "id": "85f13a05",
   "metadata": {},
   "source": [
    "### Controllo che Track_Api e Track che stanno sulla stessa riga siano le più simili tra loro in relazione alle altre canzoni dello stesso artista"
   ]
  },
  {
   "cell_type": "markdown",
   "id": "36bd17ba",
   "metadata": {},
   "source": [
    "Questo codice definisce due funzioni: ``string_similarity`` e ``check_similarity``.\n",
    "\n",
    "La funzione ``string_similarity`` prende in input due stringhe a e b e calcola il rapporto tra la loro somiglianza utilizzando la funzione ``difflib.SequenceMatcher`` dalla libreria ``difflib``. La funzione rimuove prima i termini \"Remastered\", \"remastered\", \"Remaster\", e \"remaster\" dalle stringhe a e b utilizzando il metodo ``replace`` prima di effettuare il confronto.\n",
    "\n",
    "La funzione ``check_similarity`` prende in input un dataframe ``df``, il nome della colonna dell'artista ``artist_col``, il nome della colonna di un possibile nome di traccia ``track_maybe_col`` e il nome della colonna del vero nome di traccia ``track_col``. Crea una nuova colonna chiamata \"same\" nel dataframe e imposta tutti i valori a ``False``. Quindi raggruppa il dataframe per il nome dell'artista e per ogni gruppo confronta ogni nome di traccia in ``track_maybe_col`` con i nomi di traccia in ``track_col``. Se la massima somiglianza di una traccia in ``track_maybe_col`` con tutte le tracce in ``track_col`` è inferiore alla somiglianza della traccia in ``track_maybe_col`` con ``track_col`` sulla stessa riga, imposta il valore della colonna \"same\" per quella riga a True. Infine, restituisce il dataframe modificato.\n",
    "\n",
    "Il codice quindi chiama check_similarity su un dataframe ``dif`` e assegna il risultato a un dataframe ``simil``."
   ]
  },
  {
   "cell_type": "code",
   "execution_count": null,
   "id": "936f00b1",
   "metadata": {},
   "outputs": [],
   "source": [
    "import difflib\n",
    "import pandas as pd\n",
    "\n",
    "def string_similarity(a, b):\n",
    "    a = a.replace('Remastered', '').replace('remastered', '').replace('Remaster', '').replace('remaster', '')\n",
    "    b = b.replace('Remastered', '').replace('remastered', '').replace('Remaster', '').replace('remaster', '')\n",
    "    return difflib.SequenceMatcher(None, a, b).ratio()\n",
    "\n",
    "def check_similarity(df, artist_col, track_maybe_col, track_col):\n",
    "    df['same'] = False\n",
    "    for artist, group in df.groupby(artist_col):\n",
    "        for i, row in group.iterrows():\n",
    "            max_similarity = 0\n",
    "            for j, compare_row in group.iterrows():\n",
    "                if i == j:\n",
    "                    continue\n",
    "                similarity = string_similarity(row[track_maybe_col], compare_row[track_col])\n",
    "                if similarity > max_similarity:\n",
    "                    max_similarity = similarity\n",
    "            if max_similarity < string_similarity(row[track_maybe_col], row[track_col]):\n",
    "                df.at[i, 'same'] = True\n",
    "    return df\n",
    "\n",
    "simil = check_similarity(dif, 'Artist', 'Track_Api', 'Track')\n",
    "simil"
   ]
  },
  {
   "cell_type": "code",
   "execution_count": null,
   "id": "6dc8de15",
   "metadata": {},
   "outputs": [],
   "source": [
    "simil[simil['same']==False]"
   ]
  },
  {
   "cell_type": "code",
   "execution_count": null,
   "id": "1af3a5f2",
   "metadata": {},
   "outputs": [],
   "source": [
    "simil[simil['same']==True]"
   ]
  },
  {
   "cell_type": "markdown",
   "id": "d2cedb83",
   "metadata": {},
   "source": [
    "### Controllo le canzoni sbagliate degli artisti che ne hanno una sola sbagliata"
   ]
  },
  {
   "cell_type": "code",
   "execution_count": null,
   "id": "52acdf03",
   "metadata": {},
   "outputs": [],
   "source": [
    "soli = simil.groupby('Artist').filter(lambda x: len(x) == 1).reset_index(drop=True)\n",
    "soli"
   ]
  },
  {
   "cell_type": "markdown",
   "id": "b836eb99",
   "metadata": {},
   "source": [
    "### Per questo gruppo di canzoni la nostra colonna \"same\", per via di come l'abbiamo definita sarà sempre vera, a prescindere da quanto siano differenti i titoli. Definiamo allora una nuova colonna che ci dica quanto sono simili i titoli presi da API e scraper"
   ]
  },
  {
   "cell_type": "code",
   "execution_count": null,
   "id": "98f10502",
   "metadata": {},
   "outputs": [],
   "source": [
    "import difflib\n",
    "import pandas as pd\n",
    "\n",
    "def string_similarity(row, col1, col2):\n",
    "    return difflib.SequenceMatcher(None, row[col1], row[col2]).ratio()\n",
    "\n",
    "soli['similarity'] = soli.apply(lambda row: string_similarity(row, 'Track_Api', 'Track'), axis=1)\n"
   ]
  },
  {
   "cell_type": "markdown",
   "id": "597f2b5e",
   "metadata": {},
   "source": [
    "### Decidiamo di prendere 0.5 come valore soglia "
   ]
  },
  {
   "cell_type": "code",
   "execution_count": null,
   "id": "80afac18",
   "metadata": {},
   "outputs": [],
   "source": [
    "soli[soli['similarity']>0.5]"
   ]
  },
  {
   "cell_type": "code",
   "execution_count": null,
   "id": "b2b47bf2",
   "metadata": {},
   "outputs": [],
   "source": [
    "soli[soli['similarity']<0.5]"
   ]
  },
  {
   "cell_type": "markdown",
   "id": "9f83c9b0",
   "metadata": {},
   "source": [
    "### Tornando agli altri artisti con più di una canzone dissimile, in questo caso la metrica più efficace è la colonna same"
   ]
  },
  {
   "cell_type": "code",
   "execution_count": null,
   "id": "e9afd0a5",
   "metadata": {},
   "outputs": [],
   "source": [
    "accompagnati = simil.groupby('Artist').filter(lambda x: len(x) > 1).reset_index(drop=True)\n",
    "accompagnati['similarity'] = accompagnati.apply(lambda row: string_similarity(row, 'Track_Api', 'Track'), axis=1)\n",
    "accompagnati"
   ]
  },
  {
   "cell_type": "markdown",
   "id": "c5ef35d7",
   "metadata": {},
   "source": [
    "### Decidiamo infine di impostare un valore nullo su track e stream laddove supponiamo ci sia un errore "
   ]
  },
  {
   "cell_type": "markdown",
   "id": "f6f1500e",
   "metadata": {},
   "source": [
    "Per gli artisti con una sola canzone sbagliata prendiamo per buone le tracce con similarità maggiore di 0.5"
   ]
  },
  {
   "cell_type": "code",
   "execution_count": null,
   "id": "b59e8503",
   "metadata": {},
   "outputs": [],
   "source": [
    "mask = soli['similarity'] < 0.5\n",
    "soli.loc[mask, ['Track', 'Stream']] = None\n",
    "soli"
   ]
  },
  {
   "cell_type": "markdown",
   "id": "ee9801fd",
   "metadata": {},
   "source": [
    "Per tutti gli altri teniamo buone le tracce con valore della colonna 'same' uguale a vero"
   ]
  },
  {
   "cell_type": "code",
   "execution_count": null,
   "id": "7d482a02",
   "metadata": {},
   "outputs": [],
   "source": [
    "mask = accompagnati['same'] == False\n",
    "accompagnati.loc[mask, ['Track', 'Stream']] = None\n",
    "accompagnati"
   ]
  },
  {
   "cell_type": "markdown",
   "id": "65d2e178",
   "metadata": {},
   "source": [
    "### Riuniamo i dataframe e salviamo"
   ]
  },
  {
   "cell_type": "code",
   "execution_count": null,
   "id": "2d4d44e9",
   "metadata": {},
   "outputs": [],
   "source": [
    "soli.drop(columns=['same','similarity'], inplace=True)\n",
    "accompagnati.drop(columns=['same','similarity'], inplace=True)"
   ]
  },
  {
   "cell_type": "code",
   "execution_count": null,
   "id": "30d298be",
   "metadata": {},
   "outputs": [],
   "source": [
    "s_a=pd.concat([soli, accompagnati])\n",
    "s_a[s_a['Stream'] == \"Null\"]"
   ]
  },
  {
   "cell_type": "code",
   "execution_count": null,
   "id": "19999124",
   "metadata": {},
   "outputs": [],
   "source": [
    "finale = pd.merge(df, s_a, on=['Unnamed: 0'], how='left')\n",
    "finale"
   ]
  },
  {
   "cell_type": "code",
   "execution_count": null,
   "id": "c1b2e8f1",
   "metadata": {},
   "outputs": [],
   "source": [
    "finale['Track_y'].fillna(finale['Track_x'], inplace=True)\n",
    "finale['Stream_y'].fillna(finale['Stream_x'], inplace=True)"
   ]
  },
  {
   "cell_type": "code",
   "execution_count": null,
   "id": "db99c19a",
   "metadata": {},
   "outputs": [],
   "source": [
    "finale.drop(['Unnamed: 0','Artist_y', 'Url_y', 'Track_x', 'Stream_x', 'Track_Api_y', 'Album_y'], axis=1, inplace=True)"
   ]
  },
  {
   "cell_type": "code",
   "execution_count": null,
   "id": "c750ff95",
   "metadata": {},
   "outputs": [],
   "source": [
    "finale = finale.rename(columns={'Artist_x':'Artist', 'Url_x':'Url', 'Track_Api_x':'Track_Api', 'Album_x':'Album',\n",
    "                        'Stream_y':'Stream','Track_y':'Track'})\n",
    "finale"
   ]
  },
  {
   "cell_type": "code",
   "execution_count": null,
   "id": "48d56a6d",
   "metadata": {},
   "outputs": [],
   "source": [
    "finale.to_csv(\"StreamCount_sistemato.csv\")"
   ]
  }
 ],
 "metadata": {
  "kernelspec": {
   "display_name": "Python 3 (ipykernel)",
   "language": "python",
   "name": "python3"
  },
  "language_info": {
   "codemirror_mode": {
    "name": "ipython",
    "version": 3
   },
   "file_extension": ".py",
   "mimetype": "text/x-python",
   "name": "python",
   "nbconvert_exporter": "python",
   "pygments_lexer": "ipython3",
   "version": "3.9.13"
  }
 },
 "nbformat": 4,
 "nbformat_minor": 5
}
