{
 "cells": [
  {
   "cell_type": "markdown",
   "id": "ea2b2242",
   "metadata": {},
   "source": [
    "# YouTube scraping"
   ]
  },
  {
   "cell_type": "markdown",
   "id": "5e04e617",
   "metadata": {},
   "source": [
    "Importiamo le librerie necessarrie:"
   ]
  },
  {
   "cell_type": "code",
   "execution_count": null,
   "id": "e8a5cf7c",
   "metadata": {},
   "outputs": [],
   "source": [
    "from selenium import webdriver\n",
    "from selenium.webdriver.chrome.options import Options\n",
    "from selenium.webdriver.common.by import By\n",
    "from selenium.webdriver.support.ui import WebDriverWait\n",
    "from selenium.webdriver.support import expected_conditions as EC\n",
    "import pandas as pd"
   ]
  },
  {
   "cell_type": "markdown",
   "id": "68fc2d52",
   "metadata": {},
   "source": [
    "Leggiamo i dati presi da Spotify:"
   ]
  },
  {
   "cell_type": "code",
   "execution_count": null,
   "id": "154f0ff5",
   "metadata": {},
   "outputs": [],
   "source": [
    "df = pd.read_csv(\"spotify.csv\")"
   ]
  },
  {
   "cell_type": "markdown",
   "id": "478e76b3",
   "metadata": {},
   "source": [
    "Creiamo delle liste vuote"
   ]
  },
  {
   "cell_type": "code",
   "execution_count": null,
   "id": "5dfc82d2",
   "metadata": {},
   "outputs": [],
   "source": [
    "URL=[]\n",
    "traccia=[]\n",
    "artista=[]"
   ]
  },
  {
   "cell_type": "markdown",
   "id": "8043881f",
   "metadata": {},
   "source": [
    "Il seguente codice utilizza la libreria Selenium per automatizzare l'interazione con il sito web di YouTube. \n",
    "Il codice crea un oggetto ``options`` di tipo Options e imposta la strategia di caricamento della pagina su \"normal\". Quindi, viene creato un oggetto ``driver`` di tipo ``webdriver.Chrome`` utilizzando le opzioni specificate.\n",
    "\n",
    "Successivamente, viene caricata la pagina iniziale di YouTube e cliccato sul pulsante per rifiutare i cookie.\n",
    "\n",
    "Nel ciclo for, per ogni riga del DataFrame ``df`` che contiene i valori Artist e Track, viene effettuata una ricerca su YouTube utilizzando la stringa composta dall'artista e dalla traccia seguiti dalla parola chiave \"official video\". Il primo risultato viene cliccato e l'URL viene recuperato. L'URL, il nome della traccia e il nome dell'artista vengono quindi salvati rispettivamente nella lista ``url``, ``traccia`` e ``artista``."
   ]
  },
  {
   "cell_type": "code",
   "execution_count": null,
   "id": "e7672205",
   "metadata": {},
   "outputs": [],
   "source": [
    "#open Chrome\n",
    "options = Options()\n",
    "options.page_load_strategy = 'normal'\n",
    "driver = webdriver.Chrome(options=options)\n",
    "\n",
    "#load youtube\n",
    "driver.get(\"https://www.youtube.com\")\n",
    "\n",
    "wait = WebDriverWait(driver, 10)\n",
    "#reject cookies   \n",
    "reject = wait.until(EC.presence_of_element_located((By.XPATH,'//*[@id=\"content\"]/div[2]/div[6]/div[1]/ytd-button-renderer[1]/yt-button-shape/button/yt-touch-feedback-shape/div/div[2]')))\n",
    "reject.click()\n",
    "#iterate on df\n",
    "for artist,track in zip(df['Artist'], df['Track']):\n",
    "    #search for the video\n",
    "    query = artist + \" \" + track + \" official video\"\n",
    "    driver.get(f\"https://www.youtube.com/results?search_query={query}\")\n",
    "    #click on the first result and get the URL\n",
    "    try:\n",
    "        element = wait.until(EC.presence_of_element_located((By.XPATH, '//*[@id=\"thumbnail\"]/yt-image/img')))\n",
    "        element.click()\n",
    "    except:\n",
    "        element1 = wait.until(EC.presence_of_element_located((By.XPATH, '//*[@id=\"video-title\"]/yt-formatted-string')))\n",
    "        element1.click()\n",
    "        \n",
    "    url.append(driver.current_url)\n",
    "    traccia.append(track)\n",
    "    artista.append(artist)"
   ]
  },
  {
   "cell_type": "markdown",
   "id": "df54ccb1",
   "metadata": {},
   "source": [
    "# YouTube Api"
   ]
  },
  {
   "cell_type": "markdown",
   "id": "14decfed",
   "metadata": {},
   "source": [
    "Una volta ottenuti gli URL dei video di YouTube raccogliamo le informazioni che ci interessano (visualizzazioni, numero commenti, likes, titolo del video, nome del canale), utilizzando l'API di YouTube. "
   ]
  },
  {
   "cell_type": "markdown",
   "id": "f8ae269c",
   "metadata": {},
   "source": [
    "Importiamo le librerie:"
   ]
  },
  {
   "cell_type": "code",
   "execution_count": null,
   "id": "6725bae9",
   "metadata": {},
   "outputs": [],
   "source": [
    "import pandas as pd\n",
    "from googleapiclient.discovery import build\n",
    "import re"
   ]
  },
  {
   "cell_type": "markdown",
   "id": "04fcb38e",
   "metadata": {},
   "source": [
    "Definiamo una funzione che estrae l'ID dei video dall'URL. Ci servirà come parametro da inserire nella richiesta "
   ]
  },
  {
   "cell_type": "code",
   "execution_count": null,
   "id": "bec22ebf",
   "metadata": {},
   "outputs": [],
   "source": [
    "def extract_video_id(url):\n",
    "    # Extract the video ID from the URL using a regular expression\n",
    "    match = re.search(r\"v=([a-zA-Z0-9-_]{11})\", url)\n",
    "    if match:\n",
    "        return match.group(1)\n",
    "    else:\n",
    "        raise ValueError(\"Invalid YouTube URL\")"
   ]
  },
  {
   "cell_type": "markdown",
   "id": "01b825f7",
   "metadata": {},
   "source": [
    "Creiamo liste vuote: "
   ]
  },
  {
   "cell_type": "code",
   "execution_count": null,
   "id": "0e3956ef",
   "metadata": {},
   "outputs": [],
   "source": [
    "views=[]\n",
    "titles=[]\n",
    "channels=[]\n",
    "likes=[]\n",
    "comments=[]\n",
    "descriptions=[]\n",
    "licensed=[]"
   ]
  },
  {
   "cell_type": "markdown",
   "id": "a079b047",
   "metadata": {},
   "source": [
    "Fornire chiave API"
   ]
  },
  {
   "cell_type": "code",
   "execution_count": null,
   "id": "5d19c4fd",
   "metadata": {},
   "outputs": [],
   "source": [
    "API_KEY=\"Your_Key\""
   ]
  },
  {
   "cell_type": "markdown",
   "id": "f7297e86",
   "metadata": {},
   "source": [
    "Il seguente codice ci consente di ottenere le informazioni di cui abbiamo bisogno utilizzando gli URL che abbiamo raschiato."
   ]
  },
  {
   "cell_type": "code",
   "execution_count": null,
   "id": "2fef8f8e",
   "metadata": {},
   "outputs": [],
   "source": [
    "youtube = build(\"youtube\", \"v3\", developerKey=API_KEY)\n",
    "for url in URL[0:]:\n",
    "    #check for valid url\n",
    "    try:\n",
    "        video_id=extract_video_id(url)\n",
    "    except:\n",
    "        #if the video is a youtube short the API won't recognize its id so, we won't consider those.\n",
    "        channels.append(None)\n",
    "        titles.append(None)\n",
    "        views.append(None)\n",
    "        comments.append(None)\n",
    "        likes.append(None)\n",
    "        descriptions.append(None)\n",
    "        licensed.append(None)\n",
    "        print(f'short on {url}')\n",
    "    else:\n",
    "\n",
    "        request = youtube.videos().list(part=\"statistics\", id=video_id)\n",
    "        request1 =youtube.videos().list(part=\"snippet\", id=video_id)\n",
    "        request2 = youtube.videos().list(part=\"contentDetails\", id=video_id)\n",
    "        \n",
    "        response = request.execute()\n",
    "        response1 =request1.execute()\n",
    "        response2 = request2.execute()\n",
    "        \n",
    "        #Numero visualizzazioni\n",
    "        try: \n",
    "            view=int(response[\"items\"][0][\"statistics\"][\"viewCount\"])\n",
    "            views.append(view)\n",
    "        except:\n",
    "            views.appemd(None)\n",
    "            print(f'views error on {url}')\n",
    "        #Numero like\n",
    "        try:\n",
    "            like=int(response[\"items\"][0][\"statistics\"][\"likeCount\"])\n",
    "            likes.append(like)\n",
    "        except:\n",
    "            likes.append(None)\n",
    "            print(f'like error on {url}')\n",
    "        #Numero Commenti\n",
    "        try:\n",
    "            comment=int(response[\"items\"][0][\"statistics\"][\"commentCount\"])\n",
    "            comments.append(comment)\n",
    "        except:\n",
    "            comments.append(None)\n",
    "            print(f'comment error on {url}')\n",
    "        #Titolo Video\n",
    "        try:\n",
    "            title=response1[\"items\"][0][\"snippet\"][\"title\"]\n",
    "            titles.append(title)\n",
    "        except:\n",
    "            titles.append(None)\n",
    "            print(f'title error on {url}')\n",
    "        #Nome Canale\n",
    "        try:\n",
    "            channel=response1[\"items\"][0][\"snippet\"][\"channelTitle\"]\n",
    "            channels.append(channel)\n",
    "        except:\n",
    "            channels.append(None)\n",
    "            print(f'channel error on {url}')\n",
    "        #Descrizione\n",
    "        try:\n",
    "            desc=response1[\"items\"][0][\"snippet\"][\"description\"]\n",
    "            descriptions.append(desc)\n",
    "        except:\n",
    "            descriptions.append(None)\n",
    "            print(f'descriptions error on {url}')\n",
    "        #Licensed\n",
    "        try:\n",
    "            lic=response2[\"items\"][0][\"contentDetails\"][\"licensedContent\"]\n",
    "            licensed.append(lic)\n",
    "        except:\n",
    "            licensed.append(None)\n",
    "            print(f'licensed error on {url}')\n",
    "        "
   ]
  },
  {
   "cell_type": "markdown",
   "id": "b453edcb",
   "metadata": {},
   "source": [
    "Memorizziamo il risultato in un dataframe ```yt``` e salviamo il file csv"
   ]
  },
  {
   "cell_type": "code",
   "execution_count": null,
   "id": "be3458f6",
   "metadata": {},
   "outputs": [],
   "source": [
    "yt = pd.DataFrame({\"Artist\":artista, \"Track\": traccia, \"Url\": URL, \"Channel\": channels, \"Title\":titles, \"Views\":views,\n",
    "                   \"Likes\":likes, \"Comments\":comments, \"Description\":descriptions, \"Licensed\": licensed})"
   ]
  },
  {
   "cell_type": "code",
   "execution_count": null,
   "id": "11aef9ab",
   "metadata": {},
   "outputs": [],
   "source": [
    "yt.to_csv('Youtube_url_views_final.csv')"
   ]
  }
 ],
 "metadata": {
  "kernelspec": {
   "display_name": "Python 3 (ipykernel)",
   "language": "python",
   "name": "python3"
  },
  "language_info": {
   "codemirror_mode": {
    "name": "ipython",
    "version": 3
   },
   "file_extension": ".py",
   "mimetype": "text/x-python",
   "name": "python",
   "nbconvert_exporter": "python",
   "pygments_lexer": "ipython3",
   "version": "3.9.13"
  }
 },
 "nbformat": 4,
 "nbformat_minor": 5
}
