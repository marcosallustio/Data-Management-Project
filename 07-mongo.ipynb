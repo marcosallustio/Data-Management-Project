{
 "cells": [
  {
   "cell_type": "code",
   "execution_count": null,
   "id": "f2d25183",
   "metadata": {},
   "outputs": [],
   "source": [
    "from pymongo import MongoClient\n",
    "client = MongoClient('localhost', 27017)\n",
    "import pandas as pd"
   ]
  },
  {
   "cell_type": "markdown",
   "id": "184c9c1e",
   "metadata": {},
   "source": [
    "#### Lettura del dataset integrato da salvare su MongoDB"
   ]
  },
  {
   "cell_type": "code",
   "execution_count": null,
   "id": "d2677fdb",
   "metadata": {},
   "outputs": [],
   "source": [
    "df_integrate = pd.read_csv(\"Dataset_finale.csv\")"
   ]
  },
  {
   "cell_type": "markdown",
   "id": "4d7405d0",
   "metadata": {},
   "source": [
    "#### Connessione a MongoDB"
   ]
  },
  {
   "cell_type": "code",
   "execution_count": null,
   "id": "27a5dd92",
   "metadata": {},
   "outputs": [],
   "source": [
    "#Connesione al Database\n",
    "db=client.project\n",
    "#Connessione alla collection\n",
    "coll=db.Integrate"
   ]
  },
  {
   "cell_type": "markdown",
   "id": "7f2ed63e",
   "metadata": {},
   "source": [
    "#### Creazione della struttura dei documenti da salvare "
   ]
  },
  {
   "cell_type": "code",
   "execution_count": null,
   "id": "a94e6328",
   "metadata": {},
   "outputs": [],
   "source": [
    "docs = []            \n",
    "for pos in range(0,len(df_integrate)):\n",
    "    \n",
    "    docs.append( {\"Artist\": df_integrate['Artist'][pos], \"Track\": df_integrate['Track'][pos],\n",
    "           \"Spotify\": {\"Stream\": df_integrate['Stream'][pos], \"Url artista\":df_integrate['Url_spotify'][pos],\n",
    "                       \"Album\":df_integrate['Album'][pos],\"Album Type\":df_integrate['Album_type'][pos],\n",
    "                       \"Uri\":df_integrate['Uri'][pos],\"Danceability\":df_integrate['Danceability'][pos],\n",
    "                       \"Energy\":df_integrate['Energy'][pos],\"Key\":df_integrate['Key'][pos],\n",
    "                       \"Loudness\":df_integrate['Loudness'][pos],\"Speechiness\":df_integrate['Speechiness'][pos],\n",
    "                       \"Acousticness\":df_integrate['Acousticness'][pos],\"Instrumentalness\":df_integrate['Instrumentalness'][pos],\n",
    "                       \"Liveness\":df_integrate['Liveness'][pos],\"Valence\":df_integrate['Valence'][pos],\n",
    "                       \"Tempo\":df_integrate['Tempo'][pos],\"Duration_ms\":df_integrate['Duration_ms'][pos]},\n",
    "           \"Youtube\": { \"Views\": df_integrate['Views'][pos],\"Likes\":df_integrate['Likes'][pos],\n",
    "                       \"Channel\":df_integrate['Channel'][pos],\"Url video\":df_integrate['Url_youtube'][pos],\n",
    "                       \"Title\":df_integrate['Title'][pos],\"Description\":df_integrate['Description'][pos],\n",
    "                       \"Licensed\":df_integrate['Licensed'][pos], \"Official_video\": df_integrate['official_video'][pos]}})\n",
    "  \n",
    "\n"
   ]
  },
  {
   "cell_type": "markdown",
   "id": "8e73e54f",
   "metadata": {},
   "source": [
    "#### Salvataggio dei documenti all'interno della collection"
   ]
  },
  {
   "cell_type": "code",
   "execution_count": null,
   "id": "08224f50",
   "metadata": {},
   "outputs": [],
   "source": [
    "coll.insert_many(docs)"
   ]
  },
  {
   "cell_type": "markdown",
   "id": "93f44d85",
   "metadata": {},
   "source": [
    "#### Query 1: Trovare il numero di documenti totali"
   ]
  },
  {
   "cell_type": "code",
   "execution_count": null,
   "id": "4e436473",
   "metadata": {},
   "outputs": [],
   "source": [
    "n_documents=[]\n",
    "for doc in coll.find():\n",
    "    n_documents.append(doc)"
   ]
  },
  {
   "cell_type": "code",
   "execution_count": null,
   "id": "1ea87a53",
   "metadata": {},
   "outputs": [],
   "source": [
    "len(n_documents)"
   ]
  },
  {
   "cell_type": "markdown",
   "id": "48af29d2",
   "metadata": {},
   "source": [
    "#### Query 2: Trovare il numero di documenti le cui stream sono maggiori di zero"
   ]
  },
  {
   "cell_type": "code",
   "execution_count": null,
   "id": "9db07000",
   "metadata": {},
   "outputs": [],
   "source": [
    "non_null_streams=[]\n",
    "for doc in coll.find({\"Spotify.Stream\":{\"$gt\":0}},{\"Track\",\"Artist\"}):\n",
    "    non_null_streams.append(doc)\n",
    "    print(doc)"
   ]
  },
  {
   "cell_type": "code",
   "execution_count": null,
   "id": "9b5f3a5d",
   "metadata": {},
   "outputs": [],
   "source": [
    "len(non_null_streams)"
   ]
  },
  {
   "cell_type": "markdown",
   "id": "32c9db43",
   "metadata": {},
   "source": [
    "#### Query 3: Trovare il numero di documenti le cui views sono maggiori di zero tra i documenti trovati prima"
   ]
  },
  {
   "cell_type": "code",
   "execution_count": null,
   "id": "6a6d97e5",
   "metadata": {
    "scrolled": true
   },
   "outputs": [],
   "source": [
    "non_null=[]\n",
    "for doc in coll.find({\"Youtube.Views\":{\"$gt\":0}},{\"Track\",\"Artist\"}):\n",
    "    if doc in non_null_streams:\n",
    "        non_null.append(doc)\n",
    "        print(doc)"
   ]
  },
  {
   "cell_type": "markdown",
   "id": "5e711294",
   "metadata": {},
   "source": [
    "#### Numero di documenti con views e stream nulli"
   ]
  },
  {
   "cell_type": "code",
   "execution_count": null,
   "id": "fffe647f",
   "metadata": {},
   "outputs": [],
   "source": [
    "len(non_null)"
   ]
  },
  {
   "cell_type": "code",
   "execution_count": null,
   "id": "b433a498",
   "metadata": {},
   "outputs": [],
   "source": [
    "coll_new=db.query1"
   ]
  },
  {
   "cell_type": "markdown",
   "id": "6a92ae79",
   "metadata": {},
   "source": [
    "#### Query 4: Trovare i documenti che hanno un numero di views(YouTube) maggiori del numero di streams(Spotify)"
   ]
  },
  {
   "cell_type": "code",
   "execution_count": null,
   "id": "b1ae0735",
   "metadata": {},
   "outputs": [],
   "source": [
    "results=[]\n",
    "for doc in coll.find({\"$and\":[{\"$expr\": {\"$gt\": [\"$Youtube.Views\",\"$Spotify.Stream\"]}},\n",
    "                              {\"Youtube.Official_video\":True}]},{\"Track\",\"Artist\"}):\n",
    "    results.append(doc)\n",
    "    coll_new.insert_one(doc)\n",
    "    print(doc)"
   ]
  },
  {
   "cell_type": "markdown",
   "id": "619362f6",
   "metadata": {},
   "source": [
    "#### Numero di documenti"
   ]
  },
  {
   "cell_type": "code",
   "execution_count": null,
   "id": "90458b2d",
   "metadata": {},
   "outputs": [],
   "source": [
    "len(results)"
   ]
  },
  {
   "cell_type": "markdown",
   "id": "890aff06",
   "metadata": {},
   "source": [
    "#### Query 5: Numero di canzoni per ogni artista trovato nella precedente query"
   ]
  },
  {
   "cell_type": "code",
   "execution_count": null,
   "id": "4fca6756",
   "metadata": {},
   "outputs": [],
   "source": [
    "for doc1 in coll_new.aggregate([{\"$group\":{ \"_id\":'$Artist',\"Total\":{ \"$sum\" : 1 } } }]):\n",
    "    print(doc1)"
   ]
  }
 ],
 "metadata": {
  "kernelspec": {
   "display_name": "Python 3 (ipykernel)",
   "language": "python",
   "name": "python3"
  },
  "language_info": {
   "codemirror_mode": {
    "name": "ipython",
    "version": 3
   },
   "file_extension": ".py",
   "mimetype": "text/x-python",
   "name": "python",
   "nbconvert_exporter": "python",
   "pygments_lexer": "ipython3",
   "version": "3.9.13"
  }
 },
 "nbformat": 4,
 "nbformat_minor": 5
}
