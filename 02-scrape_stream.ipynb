{
 "cells": [
  {
   "cell_type": "markdown",
   "id": "2bc39a2f",
   "metadata": {},
   "source": [
    "# Spotify Scraping"
   ]
  },
  {
   "cell_type": "markdown",
   "id": "03c921a6",
   "metadata": {},
   "source": [
    "Importiamo le librerie necessarie:"
   ]
  },
  {
   "cell_type": "code",
   "execution_count": null,
   "id": "6aeebf52",
   "metadata": {},
   "outputs": [],
   "source": [
    "from selenium import webdriver\n",
    "from selenium.webdriver.chrome.options import Options\n",
    "from selenium.webdriver.common.by import By\n",
    "from selenium.webdriver.support.ui import WebDriverWait\n",
    "from selenium.webdriver.support import expected_conditions as EC\n",
    "import pandas as pd"
   ]
  },
  {
   "cell_type": "markdown",
   "id": "ee7be382",
   "metadata": {},
   "source": [
    "Leggiamo il datframe di canzoni ottenuto usando l'API di Spotify:"
   ]
  },
  {
   "cell_type": "code",
   "execution_count": null,
   "id": "51e6d186",
   "metadata": {
    "scrolled": true
   },
   "outputs": [],
   "source": [
    "df = pd.read_csv(\"songs_final.csv\")"
   ]
  },
  {
   "cell_type": "markdown",
   "id": "843d0796",
   "metadata": {},
   "source": [
    "Considero solo le colonne ``Artist``,``Url``,``Track`` e ``Album``"
   ]
  },
  {
   "cell_type": "code",
   "execution_count": null,
   "id": "52567b9b",
   "metadata": {},
   "outputs": [],
   "source": [
    "df.drop(['Unnamed: 0'], axis=1,inplace=True)\n",
    "df = df[['Artist' , 'Url' , 'Track', 'Album' ]]\n",
    "df"
   ]
  },
  {
   "cell_type": "markdown",
   "id": "d652252f",
   "metadata": {},
   "source": [
    "Nel nostro dataframe ``df`` abbiamo una colonna chiamata ``'Url'`` che memorizza l'indirizzo web delle pagine degli artisti di Spotify. Poiché abbiamo più canzoni per ogni artista, possiamo salvarle in un elenco ottenendo i valori unici di ``'Url'``. Facciamo lo stesso con ``Artist``. "
   ]
  },
  {
   "cell_type": "code",
   "execution_count": null,
   "id": "2accb1e2",
   "metadata": {},
   "outputs": [],
   "source": [
    "art= list(df['Artist'].unique())\n",
    "url= list(df['Url'].unique())\n",
    "len(art)"
   ]
  },
  {
   "cell_type": "markdown",
   "id": "a3e19584",
   "metadata": {},
   "source": [
    "Creiamo le liste vuote:"
   ]
  },
  {
   "cell_type": "code",
   "execution_count": null,
   "id": "170b3193",
   "metadata": {},
   "outputs": [],
   "source": [
    "stream=[]\n",
    "name=[]\n",
    "remove=[]"
   ]
  },
  {
   "cell_type": "markdown",
   "id": "e4a1a3b0",
   "metadata": {},
   "source": [
    "Il seguente codice tilizza la libreria Selenium per automatizzare l'interazione con Open Spotify.\n",
    "\n",
    "Il codice crea un oggetto ``options`` di tipo Options e imposta la strategia di caricamento della pagina su \"normal\". Quindi, viene creato un oggetto ``driver`` di tipo webdriver.Chrome utilizzando le opzioni specificate.\n",
    "\n",
    "Successivamente, viene caricata la pagina iniziale di Open Spotify e cliccato sul pulsante \"Accetta i cookie\".\n",
    "\n",
    "Nel ciclo for, per ogni URL presente nella lista ``url``, viene caricata la pagina dell'artista corrispondente e cliccato sul pulsante \"see more\". Quindi, vengono recuperati i titoli e i conteggi dello streaming utilizzando la selezione CSS. Se la lunghezza di elementi recuperati è inferiore a 10, viene stampato un messaggio di errore e si aggiunge il nome dell'artista nella lista ``remove`` . Altrimenti, i titoli e i conteggi dello streaming vengono salvati nella lista name e stream, rispettivamente."
   ]
  },
  {
   "cell_type": "code",
   "execution_count": null,
   "id": "c94a0fa3",
   "metadata": {},
   "outputs": [],
   "source": [
    "options = Options()\n",
    "options.page_load_strategy = 'normal'\n",
    "driver = webdriver.Chrome(options=options)\n",
    "\n",
    "driver.get(\"https://open.spotify.com\")\n",
    "\n",
    "WebDriverWait(driver, 120).until(EC.element_to_be_clickable((By.XPATH, \"//button[@id='onetrust-accept-btn-handler']\"))).click()\n",
    "for i in range(0,len(url)):\n",
    "\n",
    "        driver.get(url[i])\n",
    "        WebDriverWait(driver, 120).until(EC.element_to_be_clickable((By.XPATH, \"//div[@class='Type__TypeElement-sc-goli3j-0 drxPnz']\"))).click()\n",
    "        elem=driver.find_elements(By.CSS_SELECTOR, \".Type__TypeElement-sc-goli3j-0.hGXzYa.nYg_xsOVmrVE_8qk1GCW\")\n",
    "        elem1=driver.find_elements(By.CSS_SELECTOR, \".Type__TypeElement-sc-goli3j-0.kHHFyx.t_yrXoUO3qGsJS4Y6iXX.standalone-ellipsis-one-line\")\n",
    "        if(len(elem) or len(elem1)) < 10:\n",
    "            print(\"problema con\",i)\n",
    "            remove.append(art[i])\n",
    "        else:\n",
    "            for value in elem:\n",
    "                stream.append(value.text)\n",
    "            for value in elem1:\n",
    "                name.append(value.text)\n",
    "                \n",
    "\n",
    "        "
   ]
  },
  {
   "cell_type": "markdown",
   "id": "66d08ba9",
   "metadata": {},
   "source": [
    "Rimuovo gli artisti per cui il codice mi ha restituito un errore:"
   ]
  },
  {
   "cell_type": "code",
   "execution_count": null,
   "id": "875b1cf2",
   "metadata": {},
   "outputs": [],
   "source": [
    "df.set_index('Artist' , inplace=True)\n",
    "for i in remove:\n",
    "    df.drop([i] , axis=0 ,inplace=True)\n"
   ]
  },
  {
   "cell_type": "code",
   "execution_count": null,
   "id": "34ec0915",
   "metadata": {},
   "outputs": [],
   "source": [
    "df.reset_index(inplace=True)\n",
    "df['Artist']"
   ]
  },
  {
   "cell_type": "code",
   "execution_count": null,
   "id": "7be1f746",
   "metadata": {
    "scrolled": true
   },
   "outputs": [],
   "source": [
    "df_stream=pd.DataFrame({\"Artist\":df['Artist'],\"Url\": df['Url'], \"Track_Api\": df['Track'] , \"Album_Api\":df['Album'],\n",
    "                        \"Stream\":stream, \"Track\":name})\n",
    "df_stream"
   ]
  },
  {
   "cell_type": "markdown",
   "id": "78307110",
   "metadata": {},
   "source": [
    "Infine carichiamo il dataframe in un file csv:"
   ]
  },
  {
   "cell_type": "code",
   "execution_count": null,
   "id": "6e070a77",
   "metadata": {},
   "outputs": [],
   "source": [
    "df_stream.to_csv(\"StreamCount_final.csv\")"
   ]
  }
 ],
 "metadata": {
  "kernelspec": {
   "display_name": "Python 3 (ipykernel)",
   "language": "python",
   "name": "python3"
  },
  "language_info": {
   "codemirror_mode": {
    "name": "ipython",
    "version": 3
   },
   "file_extension": ".py",
   "mimetype": "text/x-python",
   "name": "python",
   "nbconvert_exporter": "python",
   "pygments_lexer": "ipython3",
   "version": "3.9.13"
  }
 },
 "nbformat": 4,
 "nbformat_minor": 5
}
