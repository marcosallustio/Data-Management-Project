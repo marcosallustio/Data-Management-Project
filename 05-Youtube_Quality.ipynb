{
 "cells": [
  {
   "cell_type": "code",
   "execution_count": null,
   "id": "b87668ce",
   "metadata": {},
   "outputs": [],
   "source": [
    "import pandas as pd\n",
    "import difflib\n",
    "import numpy as np"
   ]
  },
  {
   "cell_type": "code",
   "execution_count": null,
   "id": "ec129514",
   "metadata": {},
   "outputs": [],
   "source": [
    "yt = pd.read_csv(\"Youtube_url_views_final.csv\")\n",
    "yt.drop(['Unnamed: 0' , 'Unnamed: 0.1'] , axis=1, inplace=True)"
   ]
  },
  {
   "cell_type": "markdown",
   "id": "545c2be8",
   "metadata": {},
   "source": [
    "# Completezza"
   ]
  },
  {
   "cell_type": "markdown",
   "id": "2be84722",
   "metadata": {},
   "source": [
    "Contiamo quanti valori nulli ci sono dopo la raccolta dei dati da youtube"
   ]
  },
  {
   "cell_type": "code",
   "execution_count": null,
   "id": "d6cc678f",
   "metadata": {
    "scrolled": false
   },
   "outputs": [],
   "source": [
    "yt.isnull().sum()"
   ]
  },
  {
   "cell_type": "markdown",
   "id": "df9b85fb",
   "metadata": {},
   "source": [
    "# Accuratezza"
   ]
  },
  {
   "cell_type": "markdown",
   "id": "4046a74d",
   "metadata": {},
   "source": [
    "Controlliamo che il video preso con lo scraping corrisponda a quello della canzone di Spotify"
   ]
  },
  {
   "cell_type": "code",
   "execution_count": null,
   "id": "f2db017c",
   "metadata": {},
   "outputs": [],
   "source": [
    "yt['Title'] = yt['Title'].fillna(\"Null\")"
   ]
  },
  {
   "cell_type": "markdown",
   "id": "0f0522b2",
   "metadata": {},
   "source": [
    "Prima controlliamo che il nome della canzone (``Track``) sia abbastanza simile al titolo del video su youtube (``Title``)"
   ]
  },
  {
   "cell_type": "code",
   "execution_count": null,
   "id": "b49c9f29",
   "metadata": {
    "scrolled": true
   },
   "outputs": [],
   "source": [
    "def string_similarity(x):\n",
    "    if x['Title'] == 'Null':\n",
    "        return None\n",
    "    else:\n",
    "        return difflib.SequenceMatcher(None, x['Track'], x['Title']).ratio()\n",
    "        \n",
    "\n",
    "yt['similarity'] = yt.apply(lambda x: string_similarity(x), axis=1)"
   ]
  },
  {
   "cell_type": "markdown",
   "id": "27f4b812",
   "metadata": {},
   "source": [
    "Scelta la soglia di 0.3, aggiungiamo un altro controllo per le canzoni al di sotto di questa soglia: consideriamo un video giusto se l'artista è contenuto nel nome del canale che ha pubblicato il video, se è contenuto nel titolo del video, o se il nome della canzone è contenuta nel titolo del video\n"
   ]
  },
  {
   "cell_type": "code",
   "execution_count": null,
   "id": "a2089135",
   "metadata": {},
   "outputs": [],
   "source": [
    "def check(x):\n",
    "    if x['similarity'] < 0.3:\n",
    "        if (x['Artist'].lower() in x['Title'].lower())|(x['Artist'].lower() in x['Channel'].lower())|(x['Track'].lower() in x['Title'].lower()):\n",
    "            return True\n",
    "        else:\n",
    "            return False\n",
    "\n",
    "def true_video(x):\n",
    "    if (x['similarity'] >= 0.3):\n",
    "        return True\n",
    "    else:\n",
    "        if x['check'] == True:\n",
    "            return True\n",
    "        else:\n",
    "            return False\n",
    "    \n",
    "    \n",
    "yt['check'] = yt.apply(lambda x: check(x), axis=1)\n",
    "yt['True_Video'] = yt.apply(lambda x: true_video(x), axis=1)"
   ]
  },
  {
   "cell_type": "markdown",
   "id": "dd0461db",
   "metadata": {},
   "source": [
    "A questo punto per le righe che non consideriamo come video accurato rispetto alla canzone di Spotify impostiamo un valore nullo per gli attributi raccolti da youtube"
   ]
  },
  {
   "cell_type": "code",
   "execution_count": null,
   "id": "bed668bf",
   "metadata": {},
   "outputs": [],
   "source": [
    "yt.drop(['similarity' , 'check'], axis=1, inplace=True)"
   ]
  },
  {
   "cell_type": "code",
   "execution_count": null,
   "id": "004ea325",
   "metadata": {},
   "outputs": [],
   "source": [
    "mask = yt['True_Video'] == False\n",
    "yt.loc[mask, ['Url', 'Title', 'Channel', 'Views', 'Likes','Comments', 'Description', 'Licensed']] = None"
   ]
  },
  {
   "cell_type": "code",
   "execution_count": null,
   "id": "4f38f826",
   "metadata": {},
   "outputs": [],
   "source": [
    "yt.drop(['True_Video'], axis=1, inplace=True)"
   ]
  },
  {
   "cell_type": "markdown",
   "id": "1a5dde2a",
   "metadata": {},
   "source": [
    "### Controlliamo ora se la ricerca con YouTube API ha trovato un video ufficiale: \n",
    "* se la colonna 'Licensed' è uguale a ``True``, lo prendo per buono\n",
    "* se la colonna è nulla lascio il campo nullo \n",
    "* se la colonna è uguale a ``False`` controllo che il nome del canale sia lo stesso dell'artista o che sia contenuto nel titolo del video"
   ]
  },
  {
   "cell_type": "code",
   "execution_count": null,
   "id": "ad764bb1",
   "metadata": {},
   "outputs": [],
   "source": [
    "def official(x):\n",
    "    video = None\n",
    "    \n",
    "    if x['Licensed'] == True:\n",
    "        video = True\n",
    "        \n",
    "    elif x['Licensed'] == False:\n",
    "        art = x['Artist']\n",
    "        tit = x['Title']\n",
    "        chan = x['Channel']\n",
    "        if (chan in art) | (chan in tit):\n",
    "            video = True\n",
    "        else:\n",
    "            video = False\n",
    "    \n",
    "    return video"
   ]
  },
  {
   "cell_type": "code",
   "execution_count": null,
   "id": "a732e603",
   "metadata": {},
   "outputs": [],
   "source": [
    "yt['official_video'] = yt.apply(official, axis=1)"
   ]
  },
  {
   "cell_type": "code",
   "execution_count": null,
   "id": "3167f26d",
   "metadata": {},
   "outputs": [],
   "source": [
    "yt[yt['official_video']==True].count()[0]"
   ]
  },
  {
   "cell_type": "markdown",
   "id": "8d774757",
   "metadata": {},
   "source": [
    "Infine carichiamo tutto in un nuovo file csv"
   ]
  },
  {
   "cell_type": "code",
   "execution_count": null,
   "id": "7e80fa18",
   "metadata": {},
   "outputs": [],
   "source": [
    "yt.to_csv(\"Youtube_Sistemato.csv\")"
   ]
  }
 ],
 "metadata": {
  "kernelspec": {
   "display_name": "Python 3 (ipykernel)",
   "language": "python",
   "name": "python3"
  },
  "language_info": {
   "codemirror_mode": {
    "name": "ipython",
    "version": 3
   },
   "file_extension": ".py",
   "mimetype": "text/x-python",
   "name": "python",
   "nbconvert_exporter": "python",
   "pygments_lexer": "ipython3",
   "version": "3.9.13"
  }
 },
 "nbformat": 4,
 "nbformat_minor": 5
}
