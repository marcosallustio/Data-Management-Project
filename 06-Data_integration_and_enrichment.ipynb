{
 "cells": [
  {
   "cell_type": "code",
   "execution_count": null,
   "id": "0a2c4d49",
   "metadata": {},
   "outputs": [],
   "source": [
    "import pandas as pd\n",
    "import numpy as np\n",
    "import difflib"
   ]
  },
  {
   "cell_type": "markdown",
   "id": "a46235a5",
   "metadata": {},
   "source": [
    "Caricamento dei dataset"
   ]
  },
  {
   "cell_type": "code",
   "execution_count": null,
   "id": "ac0271e0",
   "metadata": {},
   "outputs": [],
   "source": [
    "spotify = pd.read_csv(\"songs_final.csv\")\n",
    "stream = pd.read_csv(\"StreamCount_sistemato.csv\")\n",
    "yt = pd.read_csv(\"Youtube_Sistemato.csv\")"
   ]
  },
  {
   "cell_type": "code",
   "execution_count": null,
   "id": "a4b0922d",
   "metadata": {},
   "outputs": [],
   "source": [
    "spotify.drop('Unnamed: 0' , axis=1, inplace=True)\n",
    "stream.drop('Unnamed: 0' , axis=1, inplace=True)\n",
    "yt.drop(['Unnamed: 0' ] , axis=1, inplace=True)"
   ]
  },
  {
   "cell_type": "markdown",
   "id": "feca1d2b",
   "metadata": {},
   "source": [
    "## Data Quality"
   ]
  },
  {
   "cell_type": "code",
   "execution_count": null,
   "id": "c42ebe48",
   "metadata": {
    "scrolled": true
   },
   "outputs": [],
   "source": [
    "type(yt['Views'][0])"
   ]
  },
  {
   "cell_type": "code",
   "execution_count": null,
   "id": "1132f0c9",
   "metadata": {},
   "outputs": [],
   "source": [
    "type(stream['Stream'][0])"
   ]
  },
  {
   "cell_type": "markdown",
   "id": "eddf1420",
   "metadata": {},
   "source": [
    "Notiamo come il valore delle visualizazzioni su youtube sia in formato diverso da quello del conteggio delle stream su spotify, per cui modifichiamo questo ultimo"
   ]
  },
  {
   "cell_type": "code",
   "execution_count": null,
   "id": "3f050e02",
   "metadata": {
    "scrolled": false
   },
   "outputs": [],
   "source": [
    "stream['Stream'] = stream['Stream'].str.replace(\".\", \"\")\n",
    "stream[stream['Stream']!='Null']['Stream'].astype(np.float64)\n",
    "stream"
   ]
  },
  {
   "cell_type": "markdown",
   "id": "c887cc9c",
   "metadata": {},
   "source": [
    "### Cerchiamo le righe doppie nel Dataset del conteggio delle stream di spotify, e teniamo solo quelle con il numero di stream maggiore"
   ]
  },
  {
   "cell_type": "code",
   "execution_count": null,
   "id": "2e5d5b28",
   "metadata": {},
   "outputs": [],
   "source": [
    "doppi = stream[stream.duplicated(subset=(['Artist' , 'Track', 'Album']) , keep=False)==True]\n",
    "massimi = doppi.groupby(['Artist' , 'Track', 'Album'],as_index=False)['Stream'].max()\n",
    "\n",
    "art = massimi['Artist']\n",
    "trac =massimi['Track']\n",
    "stre = massimi['Stream']\n",
    "alb = massimi['Album']\n",
    "\n",
    "\n",
    "for i in range(len(art)):\n",
    "    stream.drop(stream[(stream['Artist']==art[i]) & (stream['Track']==trac[i]) & (stream['Album']==alb[i]) & (stream['Stream']!=stre[i])].index,\n",
    "             axis=0, inplace=True)\n",
    "\n",
    "stream"
   ]
  },
  {
   "cell_type": "markdown",
   "id": "768f4267",
   "metadata": {},
   "source": [
    "### Uniamo il Dataset di spotify API con quello di Youtube"
   ]
  },
  {
   "cell_type": "code",
   "execution_count": null,
   "id": "3eb05079",
   "metadata": {
    "scrolled": true
   },
   "outputs": [],
   "source": [
    "sp_yt= pd.merge(spotify , yt , left_index=True, right_index=True , copy=False)\n",
    "sp_yt.drop(['Artist_y' , 'Track_y'], axis=1, inplace=True)\n",
    "sp_yt = sp_yt.rename(columns={'Artist_x':'Artist', 'Url_x':'Url_spotify', 'Track_x':'Track',\n",
    "                        'Url_y':'Url_youtube'})\n",
    "sp_yt"
   ]
  },
  {
   "cell_type": "markdown",
   "id": "d0c4df17",
   "metadata": {},
   "source": [
    "### Unisco il dataset ``sp_yt`` con il dataset delle stream"
   ]
  },
  {
   "cell_type": "code",
   "execution_count": null,
   "id": "1b04899f",
   "metadata": {
    "scrolled": true
   },
   "outputs": [],
   "source": [
    "finale = pd.merge( sp_yt , stream , on=['Artist' , 'Track', 'Album'], how='left' )\n",
    "finale"
   ]
  },
  {
   "cell_type": "markdown",
   "id": "d7920f75",
   "metadata": {},
   "source": [
    "### Restano delle righe doppie, le eliminiamo"
   ]
  },
  {
   "cell_type": "code",
   "execution_count": null,
   "id": "f9d92b3d",
   "metadata": {},
   "outputs": [],
   "source": [
    "finale[finale.duplicated(subset=(['Artist' , 'Track', 'Album']) , keep=False)]"
   ]
  },
  {
   "cell_type": "code",
   "execution_count": null,
   "id": "5ebf1159",
   "metadata": {},
   "outputs": [],
   "source": [
    "finale.drop_duplicates(subset=['Artist' , 'Track', 'Album'], inplace=True)\n",
    "finale.drop(['Url' , 'Track_Api'] , axis=1, inplace=True)\n",
    "finale.reset_index(inplace=True, drop=True)\n",
    "finale"
   ]
  },
  {
   "cell_type": "code",
   "execution_count": null,
   "id": "743d5115",
   "metadata": {},
   "outputs": [],
   "source": [
    "finale.to_csv(\"Dataset_finale.csv\")"
   ]
  },
  {
   "cell_type": "markdown",
   "id": "d67c2ea5",
   "metadata": {},
   "source": [
    "# Completezza "
   ]
  },
  {
   "cell_type": "code",
   "execution_count": null,
   "id": "2b736bf2",
   "metadata": {},
   "outputs": [],
   "source": [
    "finale.isnull().sum()"
   ]
  }
 ],
 "metadata": {
  "kernelspec": {
   "display_name": "Python 3 (ipykernel)",
   "language": "python",
   "name": "python3"
  },
  "language_info": {
   "codemirror_mode": {
    "name": "ipython",
    "version": 3
   },
   "file_extension": ".py",
   "mimetype": "text/x-python",
   "name": "python",
   "nbconvert_exporter": "python",
   "pygments_lexer": "ipython3",
   "version": "3.9.13"
  }
 },
 "nbformat": 4,
 "nbformat_minor": 5
}
